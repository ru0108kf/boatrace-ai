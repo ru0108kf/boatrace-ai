{
 "cells": [
  {
   "cell_type": "markdown",
   "id": "c55e6b84",
   "metadata": {},
   "source": [
    "# 競艇予想AI"
   ]
  },
  {
   "cell_type": "markdown",
   "id": "287cb7c2",
   "metadata": {},
   "source": [
    "### pipとかは自分でしてね"
   ]
  },
  {
   "cell_type": "code",
   "execution_count": 1,
   "id": "d7048033",
   "metadata": {},
   "outputs": [],
   "source": [
    "from machinelarning import BoatraceML\n",
    "import os\n",
    "from datetime import datetime, timedelta\n",
    "from base import BoatraceBase\n",
    "from scraper import BoatraceScraper\n",
    "from analyzer import BoatraceAnalyzer\n",
    "import joblib"
   ]
  },
  {
   "cell_type": "code",
   "execution_count": 2,
   "id": "b1e82604",
   "metadata": {},
   "outputs": [],
   "source": [
    "# 自分のパスを通す\n",
    "folder = \"C:\\\\Users\\\\msy-t\\\\boatrace-ai\""
   ]
  },
  {
   "cell_type": "code",
   "execution_count": 3,
   "id": "21c589b5",
   "metadata": {},
   "outputs": [],
   "source": [
    "today_date = datetime.now().strftime('%Y-%m-%d')\n",
    "today_datetime = datetime.strptime(today_date, '%Y-%m-%d')\n",
    "yesterday = (today_datetime - timedelta(days=1)).strftime('%Y-%m-%d')\n",
    "\n",
    "scraperK = BoatraceScraper(folder+\"\\\\data\", BorK=\"K\")\n",
    "current_date = scraperK.find_current_dates(date=yesterday,BorK=\"K\")\n",
    "if current_date!=None:\n",
    "    if current_date==today_date:\n",
    "        scraperK.scrape_and_process_data(start_date=yesterday,end_date=yesterday)\n",
    "        scraperK.scrape_and_process_data(start_date=current_date,end_date=yesterday)\n",
    "\n",
    "scraperB = BoatraceScraper(folder+\"\\\\data\", BorK=\"B\")\n",
    "current_date = scraperB.find_current_dates(date=today_date,BorK=\"B\")\n",
    "if current_date!=None:\n",
    "    if current_date==today_date:\n",
    "        scraperB.scrape_and_process_data(start_date=today_date,end_date=today_date)\n",
    "    else:\n",
    "        scraperB.scrape_and_process_data(start_date=current_date,end_date=today_date)"
   ]
  },
  {
   "cell_type": "code",
   "execution_count": 4,
   "id": "e4db46e3",
   "metadata": {},
   "outputs": [],
   "source": [
    "boatrace_ml = BoatraceML(folder+\"\\\\data\")\n",
    "#test_df,model_one,model_defeat_one,model_twos,mean,std,columns = boatrace_ml.run_pipeline()    \n",
    "\n",
    "# モデルを保存する\n",
    "#test_df.to_csv(\"folder+\"\\\\data\\\\agg_results\\\\test_df.csv\", index=False, encoding=\"shift_jis\")\n",
    "#os.makedirs('saved_models', exist_ok=True)\n",
    "#joblib.dump(model_one, folder+'\\\\saved_models\\\\model_one.joblib')\n",
    "#joblib.dump(model_defeat_one,folder+'\\\\saved_models\\\\model_defeat_one.joblib')\n",
    "#joblib.dump(model_twos, folder+'\\\\saved_models\\\\model_twos_dict.pkl')\n",
    "#joblib.dump({'mean': mean, 'std': std}, folder+'\\\\saved_models\\\\scaling_params.pkl')\n",
    "#joblib.dump(columns, folder+'\\\\saved_models\\\\feature_columns.pkl') \n",
    "\n",
    "# テスト\n",
    "#boatrace_ml.run_pipeline_ellipsis()\n",
    "\n",
    "# モデルの読み込み\n",
    "model_one = joblib.load(folder+'\\\\saved_models\\\\model_one.joblib')\n",
    "model_defeat_one = joblib.load(folder+'\\\\saved_models\\\\model_defeat_one.joblib')\n",
    "model_twos = joblib.load(folder+'\\\\saved_models\\\\model_twos_dict.pkl')\n",
    "scaling_params = joblib.load(folder+'\\\\saved_models\\\\scaling_params.pkl')\n",
    "mean = scaling_params['mean']\n",
    "std = scaling_params['std']\n",
    "columns = joblib.load(folder+'\\\\saved_models\\\\feature_columns.pkl')"
   ]
  },
  {
   "cell_type": "code",
   "execution_count": 7,
   "id": "3674b1f0",
   "metadata": {},
   "outputs": [
    {
     "name": "stdout",
     "output_type": "stream",
     "text": [
      "注意: 信頼度が閾値を下回っていますが、予測を続行します\n",
      "2025-04-23 平和島 4R: 予測 1-2-4, 2-1-4, 1-2-3, 2-1-3, 2-4-1, 2-4-3 戦術 top2_strong 予測1着確率:43.02% 37.23% 5.39% 9.01% 3.95% 1.39% -\n",
      "1が1着のときの2着確率: 68.46% 7.92% 10.88%6.93% 5.81%\n"
     ]
    }
   ],
   "source": [
    "input_str = input(\"展示タイムを入力(スペースで区切る): \")#例　6.86  6.92  6.85  6.81  6.93  6.84\n",
    "numbers = list(map(float, input_str.split()))\n",
    "Exhibition_time = {1: numbers[0],2: numbers[1],3: numbers[2],4: numbers[3],5: numbers[4],6: numbers[5]}\n",
    "# かけたいレース情報\n",
    "target_date = \"2025-04-23\"\n",
    "place='平和島'\n",
    "race_no=4\n",
    "\n",
    "boatrace_ml.run_pipeline_jissen(model_one,model_defeat_one,model_twos,mean,std,columns,target_date, place, race_no, Exhibition_time=Exhibition_time)"
   ]
  },
  {
   "cell_type": "code",
   "execution_count": null,
   "id": "246a048d",
   "metadata": {},
   "outputs": [
    {
     "name": "stdout",
     "output_type": "stream",
     "text": [
      "4\n",
      "5\n",
      "6\n"
     ]
    }
   ],
   "source": [
    "input_data = [\n",
    "    \"6.66\t6.65\t6.71\t6.73\t6.72\t6.75\",\n",
    "    \"6.65\t6.66\t6.67\t6.67\t6.70\t6.71\",\n",
    "    \"6.60\t6.73\t6.62\t6.61\t6.67\t6.68\",\n",
    "    \"6.61\t6.62\t6.75\t6.67\t6.66\t6.68\",\n",
    "    \"6.69\t6.75\t6.67\t6.71\t6.60\t6.74\",\n",
    "    \"6.65\t6.75\t6.70\t6.77\t6.72\t6.66\",\n",
    "    \"6.65\t6.70\t6.74\t6.72\t6.66\t6.62\",\n",
    "    \"6.65\t6.64\t6.59\t6.67\t6.59\t6.64\",\n",
    "    \"6.75\t6.72\t6.76\t6.70\t6.70\t6.64\",\n",
    "    \"6.75\t6.74\t6.71\t6.78\t6.85\t6.67\",\n",
    "    \"6.81\t6.64\t6.79\t6.70\t6.82\t6.72\",\n",
    "    \"6.67\t6.73\t6.69\t6.78\t6.76\t6.77\"\n",
    "]\n",
    "\n",
    "for race_no, input_str in enumerate(input_data, start=1):\n",
    "    numbers = list(map(float, input_str.split()))\n",
    "    Exhibition_time = {i + 1: num for i, num in enumerate(numbers)}\n",
    "    boatrace_ml.run_pipeline_jissen(model_one, model_defeat_one, model_twos, mean, std, columns, target_date=today_date, place=venue, race_no=race_no, Exhibition_time=Exhibition_time)"
   ]
  }
 ],
 "metadata": {
  "kernelspec": {
   "display_name": "base",
   "language": "python",
   "name": "python3"
  },
  "language_info": {
   "codemirror_mode": {
    "name": "ipython",
    "version": 3
   },
   "file_extension": ".py",
   "mimetype": "text/x-python",
   "name": "python",
   "nbconvert_exporter": "python",
   "pygments_lexer": "ipython3",
   "version": "3.12.7"
  }
 },
 "nbformat": 4,
 "nbformat_minor": 5
}
